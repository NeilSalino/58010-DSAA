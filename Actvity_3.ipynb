{
  "nbformat": 4,
  "nbformat_minor": 0,
  "metadata": {
    "colab": {
      "provenance": [],
      "authorship_tag": "ABX9TyNh4faYZXEFVupWebd1ExfI",
      "include_colab_link": true
    },
    "kernelspec": {
      "name": "python3",
      "display_name": "Python 3"
    },
    "language_info": {
      "name": "python"
    }
  },
  "cells": [
    {
      "cell_type": "markdown",
      "metadata": {
        "id": "view-in-github",
        "colab_type": "text"
      },
      "source": [
        "<a href=\"https://colab.research.google.com/github/NeilSalino/58010-DSAA/blob/main/Actvity_3.ipynb\" target=\"_parent\"><img src=\"https://colab.research.google.com/assets/colab-badge.svg\" alt=\"Open In Colab\"/></a>"
      ]
    },
    {
      "cell_type": "code",
      "execution_count": 2,
      "metadata": {
        "colab": {
          "base_uri": "https://localhost:8080/"
        },
        "id": "-pZwOdm2BLss",
        "outputId": "a1fea19d-25cb-4620-f232-1dd8ea1feaa1"
      },
      "outputs": [
        {
          "output_type": "stream",
          "name": "stdout",
          "text": [
            "Pushed Element: 1\n",
            "Pushed Element: 2\n",
            "Pushed Element: 3\n",
            "Pushed Element: 4\n",
            "Pushed Element: 5\n",
            "The elements in the stack are:['1', '2', '3', '4', '5']\n"
          ]
        }
      ],
      "source": [
        "def create_stack():\n",
        "\n",
        "    stack = []\n",
        "\n",
        "    return stack\n",
        "\n",
        "def is_empty(stack):\n",
        "\n",
        "    return len(stack) == 0\n",
        "\n",
        "\n",
        "def push(stack, item):\n",
        "\n",
        "    stack.append(item)\n",
        "\n",
        "    print(\"Pushed Element: \" + item)\n",
        "\n",
        "\n",
        "def pop(stack):\n",
        "\n",
        "    if (is_empty(stack)):\n",
        "\n",
        "        return \"The stack is empty\"\n",
        "\n",
        "    return stack.pop()\n",
        "\n",
        "stack = create_stack()\n",
        "\n",
        "push(stack, str(1))\n",
        "\n",
        "push(stack, str(2))\n",
        "\n",
        "push(stack, str(3))\n",
        "\n",
        "push(stack, str(4))\n",
        "\n",
        "push(stack, str(5))\n",
        "\n",
        "\n",
        "\n",
        "print(\"The elements in the stack are:\"+ str(stack))"
      ]
    },
    {
      "cell_type": "markdown",
      "source": [
        "2. Output"
      ],
      "metadata": {
        "id": "XRNoXpHlESW0"
      }
    },
    {
      "cell_type": "markdown",
      "source": [
        "Pushed Element: 1\n",
        "\n",
        "Pushed Element: 2\n",
        "\n",
        "Pushed Element: 3\n",
        "\n",
        "Pushed Element: 4\n",
        "\n",
        "Pushed Element: 5\n",
        "\n",
        "The elements in the stack are:['1', '2', '3', '4', '5']\n",
        "\n",
        "\n"
      ],
      "metadata": {
        "id": "psO3ASBcEjM8"
      }
    },
    {
      "cell_type": "markdown",
      "source": [
        "3. If you want to type additional codes, what will be the statement to pop 3 elements from the top of the stack?\n"
      ],
      "metadata": {
        "id": "vH8mH7ioGcRU"
      }
    },
    {
      "cell_type": "code",
      "source": [
        "for _ in range(3):\n",
        "    popped_item = pop(stack)\n",
        "    if popped_item != \"The stack is clear\":\n",
        "        print(\"Popped Element: \" + popped_item)\n"
      ],
      "metadata": {
        "id": "MLXS57vQEuwj"
      },
      "execution_count": null,
      "outputs": []
    },
    {
      "cell_type": "markdown",
      "source": [
        "4. If you will revise the codes, what will be the statement to determine the length of the stack? (Note: You may add additional methods to count the no. of elements in the stack)"
      ],
      "metadata": {
        "id": "Db4VGwnIGtl8"
      }
    },
    {
      "cell_type": "code",
      "source": [
        "def stack_length(stack):\n",
        "    return len(stack)\n"
      ],
      "metadata": {
        "id": "cM-JELQSGYIr"
      },
      "execution_count": null,
      "outputs": []
    },
    {
      "cell_type": "code",
      "source": [
        "length = stack_length(stack)\n",
        "print(\"The length of the stack is:\", length)\n"
      ],
      "metadata": {
        "id": "vDUzkXOfGZyL"
      },
      "execution_count": null,
      "outputs": []
    }
  ]
}
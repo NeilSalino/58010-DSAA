{
  "nbformat": 4,
  "nbformat_minor": 0,
  "metadata": {
    "colab": {
      "provenance": [],
      "authorship_tag": "ABX9TyP+11OEduOe7EDpatPaUlMn",
      "include_colab_link": true
    },
    "kernelspec": {
      "name": "python3",
      "display_name": "Python 3"
    },
    "language_info": {
      "name": "python"
    }
  },
  "cells": [
    {
      "cell_type": "markdown",
      "metadata": {
        "id": "view-in-github",
        "colab_type": "text"
      },
      "source": [
        "<a href=\"https://colab.research.google.com/github/NeilSalino/58010-DSAA/blob/main/Practice_Problem_1.ipynb\" target=\"_parent\"><img src=\"https://colab.research.google.com/assets/colab-badge.svg\" alt=\"Open In Colab\"/></a>"
      ]
    },
    {
      "cell_type": "code",
      "source": [
        "scores = [26, 49, 98, 87, 62, 75]\n",
        "\n",
        "total = 0\n",
        "\n",
        "for score in test_scores:\n",
        "    if score % 2 == 0:\n",
        "        total += score\n",
        "\n",
        "print(\"Total sum of odd test scores:\", total)\n",
        "\n",
        "\n",
        "\n",
        "\n",
        "\n"
      ],
      "metadata": {
        "colab": {
          "base_uri": "https://localhost:8080/"
        },
        "id": "Q6qYy31dGzGo",
        "outputId": "3646a67d-8779-4267-985e-1245a1c11a06"
      },
      "execution_count": 8,
      "outputs": [
        {
          "output_type": "stream",
          "name": "stdout",
          "text": [
            "Total sum of odd test scores: 186\n"
          ]
        }
      ]
    }
  ]
}
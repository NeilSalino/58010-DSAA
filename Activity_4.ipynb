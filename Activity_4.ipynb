{
  "nbformat": 4,
  "nbformat_minor": 0,
  "metadata": {
    "colab": {
      "provenance": [],
      "authorship_tag": "ABX9TyP+ErsPA1FL47fnTnjJsFbX",
      "include_colab_link": true
    },
    "kernelspec": {
      "name": "python3",
      "display_name": "Python 3"
    },
    "language_info": {
      "name": "python"
    }
  },
  "cells": [
    {
      "cell_type": "markdown",
      "metadata": {
        "id": "view-in-github",
        "colab_type": "text"
      },
      "source": [
        "<a href=\"https://colab.research.google.com/github/NeilSalino/58010-DSAA/blob/main/Activity_4.ipynb\" target=\"_parent\"><img src=\"https://colab.research.google.com/assets/colab-badge.svg\" alt=\"Open In Colab\"/></a>"
      ]
    },
    {
      "cell_type": "code",
      "execution_count": 14,
      "metadata": {
        "colab": {
          "base_uri": "https://localhost:8080/"
        },
        "id": "-jBHTyrWNaD-",
        "outputId": "85907143-bbf2-4260-9b3e-d5934eeae7b9"
      },
      "outputs": [
        {
          "output_type": "stream",
          "name": "stdout",
          "text": [
            "2\n",
            "4\n",
            "6\n",
            "8\n",
            "10\n",
            "12\n",
            "14\n",
            "16\n",
            "18\n",
            "20\n",
            "22\n",
            "24\n",
            "26\n",
            "28\n",
            "30\n",
            "32\n",
            "34\n",
            "36\n",
            "38\n",
            "40\n",
            "42\n",
            "44\n",
            "46\n",
            "48\n",
            "50\n",
            "Dequeued: 2\n",
            "Dequeued: 4\n",
            "Dequeued: 6\n",
            "Dequeued: 8\n",
            "Dequeued: 10\n",
            "Dequeued: 12\n",
            "Dequeued: 14\n",
            "Dequeued: 16\n",
            "Dequeued: 18\n",
            "Dequeued: 20\n",
            "Dequeued: 22\n",
            "Dequeued: 24\n",
            "Dequeued: 26\n",
            "Dequeued: 28\n",
            "Dequeued: 30\n",
            "Dequeued: 32\n",
            "Dequeued: 34\n",
            "Dequeued: 36\n",
            "Dequeued: 38\n",
            "Dequeued: 40\n",
            "Dequeued: 42\n",
            "Dequeued: 44\n",
            "Dequeued: 46\n",
            "Dequeued: 48\n",
            "Dequeued: 50\n"
          ]
        }
      ],
      "source": [
        "queue = []\n",
        "\n",
        "for num in range(1, 51):\n",
        "\n",
        "    if num % 2 == 0:\n",
        "\n",
        "        queue.append(num)\n",
        "        print(f\"{num}\")\n",
        "\n",
        "while queue:\n",
        "\n",
        "    dequeued_num = queue.pop(0)\n",
        "    print(f\"Dequeued: {dequeued_num}\")\n"
      ]
    }
  ]
}
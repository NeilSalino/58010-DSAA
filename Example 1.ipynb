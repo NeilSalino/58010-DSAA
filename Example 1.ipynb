{
  "nbformat": 4,
  "nbformat_minor": 0,
  "metadata": {
    "colab": {
      "provenance": [],
      "authorship_tag": "ABX9TyPzQpgrYgLrvRIDhbQ42wD/",
      "include_colab_link": true
    },
    "kernelspec": {
      "name": "python3",
      "display_name": "Python 3"
    },
    "language_info": {
      "name": "python"
    }
  },
  "cells": [
    {
      "cell_type": "markdown",
      "metadata": {
        "id": "view-in-github",
        "colab_type": "text"
      },
      "source": [
        "<a href=\"https://colab.research.google.com/github/NeilSalino/58010-DSAA/blob/main/Example%201.ipynb\" target=\"_parent\"><img src=\"https://colab.research.google.com/assets/colab-badge.svg\" alt=\"Open In Colab\"/></a>"
      ]
    },
    {
      "cell_type": "code",
      "execution_count": 4,
      "metadata": {
        "colab": {
          "base_uri": "https://localhost:8080/"
        },
        "id": "Jq8uZuN4C3LR",
        "outputId": "a94fd0e2-7ea5-4376-d841-ec06680b48bc"
      },
      "outputs": [
        {
          "output_type": "stream",
          "name": "stdout",
          "text": [
            "Choose an algorithm (1 or 2): 2\n",
            "Enter the length of the rectangle: 23\n",
            "Enter the width of the rectangle: 255\n",
            "Area calculated using ALGORITHM 2: 5865.0\n"
          ]
        }
      ],
      "source": [
        "def algo1():\n",
        "    length = float(input(\"Enter the length of the rectangle: \"))\n",
        "    width = float(input(\"Enter the width of the rectangle: \"))\n",
        "    area = length * width\n",
        "    return area\n",
        "\n",
        "def algo2(length, width):\n",
        "    area = length * width\n",
        "    return area\n",
        "\n",
        "\n",
        "choice = int(input(\"Choose an algorithm (1 or 2): \"))\n",
        "\n",
        "if choice == 1:\n",
        "    result = algorithm1()\n",
        "    print(\"Area calculated using ALGORITHM 1:\", result)\n",
        "elif choice == 2:\n",
        "    length = float(input(\"Enter the length of the rectangle: \"))\n",
        "    width = float(input(\"Enter the width of the rectangle: \"))\n",
        "    result = algorithm2(length, width)\n",
        "    print(\"Area calculated using ALGORITHM 2:\", result)\n",
        "else:\n",
        "    print(\"Invalid choice. Please choose either 1 or 2.\")\n"
      ]
    }
  ]
}

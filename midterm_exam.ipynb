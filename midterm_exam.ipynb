{
  "nbformat": 4,
  "nbformat_minor": 0,
  "metadata": {
    "colab": {
      "provenance": [],
      "authorship_tag": "ABX9TyP0UNfqMERzM6NCHgETgiV/",
      "include_colab_link": true
    },
    "kernelspec": {
      "name": "python3",
      "display_name": "Python 3"
    },
    "language_info": {
      "name": "python"
    }
  },
  "cells": [
    {
      "cell_type": "markdown",
      "metadata": {
        "id": "view-in-github",
        "colab_type": "text"
      },
      "source": [
        "<a href=\"https://colab.research.google.com/github/NeilSalino/58010-DSAA/blob/main/midterm_exam.ipynb\" target=\"_parent\"><img src=\"https://colab.research.google.com/assets/colab-badge.svg\" alt=\"Open In Colab\"/></a>"
      ]
    },
    {
      "cell_type": "code",
      "execution_count": 1,
      "metadata": {
        "colab": {
          "base_uri": "https://localhost:8080/"
        },
        "id": "ZnA8zE2nbuX2",
        "outputId": "c3eec388-e994-4776-c15b-39bfdafa39a7"
      },
      "outputs": [
        {
          "output_type": "stream",
          "name": "stdout",
          "text": [
            "Vertices:\n",
            "A\n",
            "B\n",
            "E\n",
            "F\n",
            "K\n",
            "M\n",
            "N\n",
            "P\n",
            "z\n",
            "\n",
            "Edges:\n",
            "A -> N\n",
            "A -> B\n",
            "A -> F\n",
            "B -> P\n",
            "B -> K\n",
            "B -> M\n",
            "F -> E\n",
            "F -> M\n",
            "M -> N\n"
          ]
        }
      ],
      "source": [
        "graph = {}\n",
        "\n",
        "def add_node(graph, node):\n",
        "  if node not in graph:\n",
        "    graph[node] = []\n",
        "\n",
        "def add_edge(graph, source, destination):\n",
        "  add_node(graph, source)\n",
        "  add_node(graph, destination)\n",
        "  graph[source].append(destination)\n",
        "\n",
        "for node in [\"A\", \"B\", \"E\", \"F\", \"K\", \"M\", \"N\", \"P\", \"z\"]:\n",
        "  add_node(graph, node)\n",
        "\n",
        "\n",
        "add_edge(graph, \"A\", \"N\")\n",
        "add_edge(graph, \"A\", \"B\")\n",
        "add_edge(graph, \"A\", \"F\")\n",
        "add_edge(graph, \"B\", \"P\")\n",
        "add_edge(graph, \"B\", \"K\")\n",
        "add_edge(graph, \"B\", \"M\")\n",
        "add_edge(graph, \"F\", \"E\")\n",
        "add_edge(graph, \"F\", \"M\")\n",
        "add_edge(graph, \"M\", \"N\")\n",
        "\n",
        "\n",
        "print(\"Vertices:\")\n",
        "for node in graph:\n",
        "  print(node)\n",
        "\n",
        "print(\"\\nEdges:\")\n",
        "for source in graph:\n",
        "  for destination in graph[source]:\n",
        "    print(f\"{source} -> {destination}\")\n"
      ]
    }
  ]
}
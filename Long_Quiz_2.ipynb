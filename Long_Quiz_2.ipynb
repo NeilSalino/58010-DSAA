{
  "nbformat": 4,
  "nbformat_minor": 0,
  "metadata": {
    "colab": {
      "provenance": [],
      "authorship_tag": "ABX9TyPdW5k9bPJXVKx1k8mKKKdx",
      "include_colab_link": true
    },
    "kernelspec": {
      "name": "python3",
      "display_name": "Python 3"
    },
    "language_info": {
      "name": "python"
    }
  },
  "cells": [
    {
      "cell_type": "markdown",
      "metadata": {
        "id": "view-in-github",
        "colab_type": "text"
      },
      "source": [
        "<a href=\"https://colab.research.google.com/github/NeilSalino/58010-DSAA/blob/main/Long_Quiz_2.ipynb\" target=\"_parent\"><img src=\"https://colab.research.google.com/assets/colab-badge.svg\" alt=\"Open In Colab\"/></a>"
      ]
    },
    {
      "cell_type": "code",
      "source": [
        "class graph:\n",
        "   def __init__(self,gdict=None):\n",
        "      if gdict is None:\n",
        "         gdict = []\n",
        "      self.gdict = gdict\n",
        "\n",
        "   def getVertices(self):\n",
        "      return list(self.gdict.keys())\n",
        "\n",
        "graph_elements = {\n",
        "   \"E\" : [\"I\",\"J\", \"K\", \"M\"],\n",
        "   \"F\" : [\"J\", \"I\", \"K\", \"P\"],\n",
        "   \"J\" : [\"H\", \"E\", \"F\"],\n",
        "   \"H\" : [\"J\", \"K\", \"I\"],\n",
        "   \"I\" : [\"H\", \"F\", \"E\"],\n",
        "   \"K\" : [\"H\", \"E\", \"F\"],\n",
        "   \"M\" : [\"E\"],\n",
        "   \"P\" : [\"F\"]\n",
        "}\n",
        "g = graph(graph_elements)\n",
        "print(g.getVertices())"
      ],
      "metadata": {
        "colab": {
          "base_uri": "https://localhost:8080/"
        },
        "id": "N-_gohQZWjhZ",
        "outputId": "688d6bf2-e53b-4ddb-da43-dee1ff306d70"
      },
      "execution_count": 4,
      "outputs": [
        {
          "output_type": "stream",
          "name": "stdout",
          "text": [
            "['E', 'F', 'J', 'H', 'I', 'K', 'M', 'P']\n"
          ]
        }
      ]
    },
    {
      "cell_type": "code",
      "source": [
        "class graph:\n",
        "   def __init__(self,gdict=None):\n",
        "      if gdict is None:\n",
        "         gdict = {}\n",
        "      self.gdict = gdict\n",
        "\n",
        "   def edges(self):\n",
        "      return self.findedges()\n",
        "\n",
        "   def findedges(self):\n",
        "      edgename = []\n",
        "      for vrtx in self.gdict:\n",
        "         for nxtvrtx in self.gdict[vrtx]:\n",
        "            if {nxtvrtx, vrtx} not in edgename:\n",
        "               edgename.append({vrtx, nxtvrtx})\n",
        "      return edgename\n",
        "\n",
        "graph_elements = {\n",
        "   \"E\" : [\"I\",\"J\", \"K\", \"M\"],\n",
        "   \"F\" : [\"J\", \"I\", \"K\", \"P\"],\n",
        "   \"J\" : [\"H\", \"E\", \"F\"],\n",
        "   \"H\" : [\"J\", \"K\", \"I\"],\n",
        "   \"I\" : [\"H\", \"F\", \"E\"],\n",
        "   \"K\" : [\"H\", \"E\", \"F\"],\n",
        "   \"M\" : [\"E\"],\n",
        "   \"P\" : [\"F\"]\n",
        "}\n",
        "g = graph(graph_elements)\n",
        "print(g.edges())"
      ],
      "metadata": {
        "colab": {
          "base_uri": "https://localhost:8080/"
        },
        "id": "YI6A0zUMWsdo",
        "outputId": "48d878bd-a8e5-4498-cab1-808e173d4747"
      },
      "execution_count": 6,
      "outputs": [
        {
          "output_type": "stream",
          "name": "stdout",
          "text": [
            "[{'I', 'E'}, {'E', 'J'}, {'K', 'E'}, {'M', 'E'}, {'J', 'F'}, {'I', 'F'}, {'K', 'F'}, {'P', 'F'}, {'H', 'J'}, {'K', 'H'}, {'I', 'H'}]\n"
          ]
        }
      ]
    }
  ]
}